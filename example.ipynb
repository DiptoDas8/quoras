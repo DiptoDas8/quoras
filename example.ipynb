{
 "cells": [
  {
   "cell_type": "code",
   "execution_count": 1,
   "metadata": {},
   "outputs": [
    {
     "name": "stdout",
     "output_type": "stream",
     "text": [
      "[Browser] Visiting Quora Homepage\n"
     ]
    }
   ],
   "source": [
    "from quoras import Quoras\n",
    "\n",
    "# Login to Quora in English\n",
    "eq = Quoras('user-email-address','password','en')"
   ]
  },
  {
   "cell_type": "code",
   "execution_count": 2,
   "metadata": {},
   "outputs": [
    {
     "name": "stdout",
     "output_type": "stream",
     "text": [
      "Search succeeded\n"
     ]
    },
    {
     "data": {
      "text/plain": [
       "['https://www.quora.com/What-are-the-most-important-lessons-of-history-specific-events-that-we-should-learn-something-from-not-generalized-notions',\n",
       " 'https://www.quora.com/What-are-some-of-the-costliest-mistakes-ever-made-in-history',\n",
       " 'https://www.quora.com/What-is-the-coolest-line-in-history',\n",
       " 'https://www.quora.com/Who-is-the-greatest-person-that-history-has-forgotten',\n",
       " 'https://www.quora.com/What-are-some-of-the-greatest-marketing-disasters-in-history',\n",
       " 'https://www.quora.com/What-are-some-things-every-Indian-should-know-about-Indian-history',\n",
       " 'https://www.quora.com/What-has-been-the-greatest-comeback-in-history',\n",
       " 'https://www.quora.com/My-history-professor-said-Islam-will-take-over-Christianity-Is-she-right',\n",
       " 'https://www.quora.com/Which-is-the-best-book-for-Indian-history',\n",
       " 'https://www.quora.com/Why-should-we-learn-history',\n",
       " 'https://www.quora.com/What-were-the-greatest-bluffs-ever-made-in-history',\n",
       " 'https://www.quora.com/Who-is-historys-greatest-badass-and-why',\n",
       " 'https://www.quora.com/What-do-you-mean-by-word-history',\n",
       " 'https://www.quora.com/Is-it-true-that-history-whitewashed-Mozart',\n",
       " 'https://www.quora.com/What-went-wrong-with-the-History-Channel-It-seems-nobody-has-any-respect-for-it-anymore',\n",
       " 'https://www.quora.com/What-are-some-of-the-most-painful-and-or-cruel-deaths-in-all-of-history',\n",
       " 'https://www.quora.com/What-was-the-most-shameful-episode-in-your-countrys-history-as-indicated-by-specific-incidents',\n",
       " 'https://www.quora.com/Who-was-the-worst-president-in-U-S-history-and-why',\n",
       " 'https://www.quora.com/Suggesting-China-often-notes-it-has-5-000-years-of-history-On-what-basis-Is-this-an-internationally-agreed-claim-and-could-the-same-be-said-of-other-places-on-Earth',\n",
       " 'https://www.quora.com/What-is-the-greatest-single-image-in-movie-history',\n",
       " 'https://www.quora.com/What-is-the-most-horrific-moment-in-Indian-history',\n",
       " 'https://www.quora.com/Whats-the-‘tl-dr’-of-different-countries-entire-histories',\n",
       " 'https://www.quora.com/What-is-an-interesting-fact-of-history-that-most-people-dont-know',\n",
       " 'https://www.quora.com/Who-is-the-most-intelligent-criminal-in-history-Why',\n",
       " 'https://www.quora.com/What-are-some-crazy-coincidences-in-history',\n",
       " 'https://www.quora.com/What-people-musicians-politicians-philosophers-intellectuals-artists-etc-in-history-are-underrated',\n",
       " 'https://www.quora.com/Who-are-the-greatest-kings-and-warriors-in-Indian-history',\n",
       " 'https://www.quora.com/Who-was-the-laziest-person-in-the-history-of-mankind',\n",
       " 'https://www.quora.com/What-are-the-most-gripping-stories-in-human-history']"
      ]
     },
     "execution_count": 2,
     "metadata": {},
     "output_type": "execute_result"
    }
   ],
   "source": [
    "res0 = eq.search('history', 'post', scroll_count=3)\n",
    "res0"
   ]
  },
  {
   "cell_type": "code",
   "execution_count": 3,
   "metadata": {},
   "outputs": [
    {
     "data": {
      "text/plain": [
       "['https://www.quora.com/unanswered/Xtl-Limited-purchase-share-capital-of-rs-100000-by-the-issue-of-12-preference-share-of-INR-100-each-What-is-the-cost-of-preference-share-capital-when-it-is-issued-at-12-preminium-and-12-discount',\n",
       " 'https://www.quora.com/unanswered/When-does-Baidu-release-earnings',\n",
       " 'https://www.quora.com/unanswered/What-are-some-advice-for-finance-for-a-17-year-old',\n",
       " 'https://www.quora.com/unanswered/What-are-the-benefits-Bharti-Airtel-will-receive-after-receiving-a-whopping-25-investment-from-Carlyle-investment-firm',\n",
       " 'https://www.quora.com/unanswered/Is-it-true-that-Sensex-has-risen-as-of-today',\n",
       " 'https://www.quora.com/unanswered/Will-OMAXE-be-delisted-from-the-stock-market',\n",
       " 'https://www.quora.com/unanswered/What-is-the-value-of-money-multiplier-with-an-increase-in-cash-reserve-ratio',\n",
       " 'https://www.quora.com/unanswered/Is-it-advisable-to-ask-funders-to-finance-the-feasibility-study',\n",
       " 'https://www.quora.com/unanswered/What-is-timing-for-pandya-ka-funda-on-CNBC',\n",
       " 'https://www.quora.com/unanswered/Which-mutual-fund-app-does-Mumbiker-Nikhil-use-to-buy-stocks-and-mutual-funds',\n",
       " 'https://www.quora.com/unanswered/Due-to-a-financial-crisis-Cricket-Australia-has-decided-to-end-whose-term',\n",
       " 'https://www.quora.com/Which-business-sectors-will-collapse-post-Covid-19',\n",
       " 'https://www.quora.com/unanswered/Which-is-better-BBA-IT-or-BBA-marketing-or-BBA-Finance-Can-someone-compare-them-and-say-which-is-the-best-among-them-to-take-in-the-present-scenario',\n",
       " 'https://www.quora.com/unanswered/When-ETNs-claim-to-have-no-tracking-error-does-this-only-mean-at-expiry-or-even-from-day-to-day-I-dont-see-how-a-contract-affected-by-auction-forces-can-have-zero-tracking-error-day-to-day',\n",
       " 'https://www.quora.com/unanswered/How-do-you-perform-dispersion-trading-with-a-2-component-index-options-volatility-implied-volatility-dispersion-and-quant',\n",
       " 'https://www.quora.com/What-are-monies-that-represent-a-collection-of-investments-that-provide-income-called',\n",
       " 'https://www.quora.com/unanswered/How-can-we-financially-define-life-in-this-modern-21st-century-era',\n",
       " 'https://www.quora.com/unanswered/How-do-I-obtain-the-net-credit-sales-from-looking-only-at-the-statement-of-financial-position-and-income-statement',\n",
       " 'https://www.quora.com/unanswered/How-do-I-come-out-from-financial-stress-and-relationship-stress',\n",
       " 'https://www.quora.com/How-do-insurance-companies-survive-in-the-market-while-they-take-comparatively-low-premiums-but-provide-more-number-of-claims',\n",
       " 'https://www.quora.com/unanswered/After-you-watch-Wolf-of-Wall-Street-do-you-want-to-buy-a-stock',\n",
       " 'https://www.quora.com/Is-there-any-chance-for-Nifty-50-to-go-bearish-on-02-July-2020',\n",
       " 'https://www.quora.com/Can-Hong-Kong-survive-as-Asias-financial-hub',\n",
       " 'https://www.quora.com/What-is-the-safest-of-all-financial-assets',\n",
       " 'https://www.quora.com/What-are-some-gamified-personal-finance-platforms',\n",
       " 'https://www.quora.com/What-do-professional-traders-think-of-Webull',\n",
       " 'https://www.quora.com/unanswered/How-should-a-portfolio-manager-improve-its-portfolio-management-services',\n",
       " 'https://www.quora.com/unanswered/What-are-homonuclear-bonds',\n",
       " 'https://www.quora.com/Why-are-the-top-3-wealth-management-firms-by-revenue-globally-all-American-Are-they-protected-by-technology-MOAT-Why-dont-they-have-more-regional-competitors',\n",
       " 'https://www.quora.com/What-are-homonuclear-and-heteronuclear-bonds',\n",
       " 'https://www.quora.com/Modern-monetary-theorists-obtain-control-of-a-societys-money-supply-what-next-Give-all-citizens-an-equal-amount-of-money-Do-people-still-need-to-hold-jobs-to-get-money-or-more-than-basic-allowance',\n",
       " 'https://www.quora.com/unanswered/Why-are-we-seeing-fewer-venture-capital-backed-IPOs',\n",
       " 'https://www.quora.com/What-is-the-latest-news-of-Chinese-firms-barred-from-road-projects-investing-in-MSMEs-in-India',\n",
       " 'https://www.quora.com/unanswered/How-do-you-get-acquainted-with-banking-in-Singapore-Is-it-tough-to-get-setup-How-will-it-benefit-impact-your-portfolio-asset-index-wealth-management',\n",
       " 'https://www.quora.com/unanswered/What-are-the-three-separate-components-of-financial-feasibility-analysis',\n",
       " 'https://www.quora.com/unanswered/What-does-FedExs-beating-expectations-in-its-latest-earnings-call-signify-regarding-the-company-outlook-economics-stocks-profit-P-L-analysts-July-2020',\n",
       " 'https://www.quora.com/unanswered/Can-you-use-an-SBA-loan-to-finance-an-Airbnb-property',\n",
       " 'https://www.quora.com/Why-is-the-status-of-independent-customs-territory-from-the-WTO-considered-crucial-for-Hong-Kongs-and-other-territories-position-in-the-global-financial-and-trade-markets',\n",
       " 'https://www.quora.com/Is-refinancing-worth-the-cost',\n",
       " 'https://www.quora.com/unanswered/What-is-a-closing-disclosure-when-refinancing',\n",
       " 'https://www.quora.com/unanswered/How-much-home-equity-can-I-cash-out',\n",
       " 'https://www.quora.com/What-types-of-refinances-are-there',\n",
       " 'https://www.quora.com/Why-dont-net-worths-take-into-consideration-inflation',\n",
       " 'https://www.quora.com/How-do-I-know-when-to-buy-or-sell-a-stock-on-Robinhood',\n",
       " 'https://www.quora.com/Can-a-privately-owned-company-set-up-an-endowment-fund-equivalent-in-the-US',\n",
       " 'https://www.quora.com/unanswered/How-do-banks-benefit-through-the-direct-benefit-transfer-of-cash-to-the-poor',\n",
       " 'https://www.quora.com/Will-there-be-a-stamp-duty-on-the-sale-of-mutual-funds-too-How-much-would-we-be-paying',\n",
       " 'https://www.quora.com/Is-Chuck-E-Cheeses-bankruptcy-going-to-shut-them-down-indefinitely',\n",
       " 'https://www.quora.com/How-much-revenue-is-the-government-planning-by-imposing-the-stamp-duty-on-mutual-funds-on-the-India-stock-exchange',\n",
       " 'https://www.quora.com/Would-the-stamp-duty-imposed-in-the-purchase-of-securities-mutual-funds-and-bonds-affect-the-investment',\n",
       " 'https://www.quora.com/What-is-a-stamp-duty-on-mutual-funds-Would-it-be-applicable-to-the-SIPs-registered-earlier',\n",
       " 'https://www.quora.com/unanswered/Can-the-Atmanirbhar-program-be-cashed-out-of-the-Forex-reserves-of-India',\n",
       " 'https://www.quora.com/unanswered/Can-NBFCs-give-loans-in-consumer-durable-loans-applying-interest-or-not',\n",
       " 'https://www.quora.com/How-many-shares-should-I-hold-in-an-index-fund',\n",
       " 'https://www.quora.com/Whats-your-opinion-on-the-article-Tesla-stock-hits-fresh-record-as-Wall-Street-awaits-Q2-sales',\n",
       " 'https://www.quora.com/Is-creating-a-startup-to-provide-services-in-South-America-a-good-investment',\n",
       " 'https://www.quora.com/How-long-should-you-keep-your-year-end-statements-for-stock-and-mutual-fund-holdings-in-the-United-States-of-America',\n",
       " 'https://www.quora.com/unanswered/Do-you-know-about-Beirut-Preferred-Fund-II',\n",
       " 'https://www.quora.com/unanswered/What-is-the-relationship-between-financial-risk-and-financial-return',\n",
       " 'https://www.quora.com/Is-it-possible-to-marry-someone-and-keep-all-of-your-respective-assets-properties-and-liabilities-totally-separate']"
      ]
     },
     "execution_count": 3,
     "metadata": {},
     "output_type": "execute_result"
    }
   ],
   "source": [
    "res1 = eq.search_topic('finance', scroll_count=1)\n",
    "res1"
   ]
  },
  {
   "cell_type": "code",
   "execution_count": 4,
   "metadata": {},
   "outputs": [
    {
     "name": "stdout",
     "output_type": "stream",
     "text": [
      "[Browser] Visiting Quora Homepage\n"
     ]
    }
   ],
   "source": [
    "# Login to Quora in Bengali\n",
    "bq = Quoras('user-email-address','password','bn')"
   ]
  },
  {
   "cell_type": "code",
   "execution_count": 5,
   "metadata": {},
   "outputs": [
    {
     "name": "stdout",
     "output_type": "stream",
     "text": [
      "[Browser] Visited  https://bn.quora.com/চীন-কিভাবে-তিব্বত-দখল\n",
      "[Scraper] Retrieved page\n"
     ]
    },
    {
     "data": {
      "text/plain": [
       "{'url': 'https://bn.quora.com/চীন-কিভাবে-তিব্বত-দখল',\n",
       " 'question': 'চীন কিভাবে তিব্বত দখল করেছিল? - Quora',\n",
       " 'topics': ['তিব্বত', 'চীন', 'ইতিহাস', 'আন্তর্জাতিক-সম্পর্ক'],\n",
       " 'related_questions': ['https://bn.quora.com/opensearch/description.xml',\n",
       "  'https://bn.quora.com/%E0%A6%9A%E0%A7%80%E0%A6%A8-%E0%A6%95%E0%A6%BF%E0%A6%AD%E0%A6%BE%E0%A6%AC%E0%A7%87-%E0%A6%A4%E0%A6%BF%E0%A6%AC%E0%A7%8D%E0%A6%AC%E0%A6%A4-%E0%A6%A6%E0%A6%96%E0%A6%B2?page_id=2',\n",
       "  'https://bn.quora.com/চীন-কিভাবে-তিব্বত-দখল',\n",
       "  'https://bn.quora.com/unanswered/সার্বিকভাবে-চিন-ভারতের',\n",
       "  'https://bn.quora.com/unanswered/tibbata-desatake-nisiddha-desa-bala-haya-kena-tibbata-desa-samparke-kichu-balabena-ki',\n",
       "  'https://bn.quora.com/চীন-একসাথে-অনেকগুলো',\n",
       "  'https://bn.quora.com/নেপালের-১১টি-স্থানে',\n",
       "  'https://bn.quora.com/cinera-sarsa-o-karona-bhairasera-sankramana-kibhabe-suru-haya-ei-rogera-laksana-o-pratikara-ki',\n",
       "  'https://bn.quora.com/অমিত-শাহ-প্রাণের-বিনিময়ে',\n",
       "  'https://bn.quora.com/চীনের-মতো-সিদ্ধান্ত-সারা',\n",
       "  'https://bn.quora.com/unanswered/১৯৬২-সালের-ভারত-চীন-যুদ্ধে',\n",
       "  'https://bn.quora.com/কে-জি-বি-এর-ইতিহাস-ও',\n",
       "  'https://bn.quora.com/cinera-calamana-bharata-birodhi-haoyara-pechane-asala-karana-ki-ei-ubhaya-desera-madhye-satrutara-itihasa-ki',\n",
       "  'https://bn.quora.com/চীন-কি-মুসলিমদের-পবিত্র',\n",
       "  'https://bn.quora.com/চীন-কি-গালোয়ান-উপত্যকা-দখল',\n",
       "  'https://bn.quora.com/পাকিস্তানের-সঙ্গে-চীনের',\n",
       "  'https://bn.quora.com/কাশ্মীরের-একটি-অংশ',\n",
       "  'https://bn.quora.com/bharata-kibhabe-hayadrabada-dakhala-karechila-bistarita-janate-parabena',\n",
       "  'https://bn.quora.com/unanswered/সার্বিকভাবে-চিন-ভারতের',\n",
       "  'https://bn.quora.com/unanswered/tibbata-desatake-nisiddha-desa-bala-haya-kena-tibbata-desa-samparke-kichu-balabena-ki',\n",
       "  'https://bn.quora.com/চীন-একসাথে-অনেকগুলো',\n",
       "  'https://bn.quora.com/নেপালের-১১টি-স্থানে',\n",
       "  'https://bn.quora.com/cinera-sarsa-o-karona-bhairasera-sankramana-kibhabe-suru-haya-ei-rogera-laksana-o-pratikara-ki',\n",
       "  'https://bn.quora.com/অমিত-শাহ-প্রাণের-বিনিময়ে',\n",
       "  'https://bn.quora.com/চীনের-মতো-সিদ্ধান্ত-সারা',\n",
       "  'https://bn.quora.com/unanswered/১৯৬২-সালের-ভারত-চীন-যুদ্ধে',\n",
       "  'https://bn.quora.com/কে-জি-বি-এর-ইতিহাস-ও',\n",
       "  'https://bn.quora.com/cinera-calamana-bharata-birodhi-haoyara-pechane-asala-karana-ki-ei-ubhaya-desera-madhye-satrutara-itihasa-ki',\n",
       "  'https://bn.quora.com/about',\n",
       "  'https://bn.quora.com/careers',\n",
       "  'https://bn.quora.com/about/privacy',\n",
       "  'https://bn.quora.com/about/tos',\n",
       "  'https://bn.quora.com/contact'],\n",
       " 'answers': ['https://bn.quora.com/চীন-কিভাবে-তিব্বত-দখল/answers/225000023',\n",
       "  'https://bn.quora.com/%E0%A6%98%E0%A7%81%E0%A6%A1%E0%A6%BC%E0%A6%BF-%E0%A6%AA%E0%A7%8D%E0%A6%B0%E0%A6%A5%E0%A6%AE-%E0%A6%95%E0%A7%8B%E0%A6%A8-%E0%A6%A6%E0%A7%87%E0%A6%B6%E0%A7%87/answers/220567395'],\n",
       " 'users': ['Debayan-Bhatta', 'Subhajit-Sani']}"
      ]
     },
     "execution_count": 5,
     "metadata": {},
     "output_type": "execute_result"
    }
   ],
   "source": [
    "res2 = bq.search_url('https://bn.quora.com/চীন-কিভাবে-তিব্বত-দখল')\n",
    "res2"
   ]
  },
  {
   "cell_type": "code",
   "execution_count": 6,
   "metadata": {},
   "outputs": [
    {
     "name": "stdout",
     "output_type": "stream",
     "text": [
      "[Browser] Visited  https://bn.quora.com/                          বিজ্ঞানীদের-মধ্যেও-কি/answers/150612153\n",
      "[Scraper] Retrieved page\n"
     ]
    },
    {
     "data": {
      "text/plain": [
       "\"বিজ্ঞানের ইতিহাসে এরকম বেশ কিছু ঘটনা ঘটেছে যেখানে মূল আবিষ্কারকে যথাযোগ্য সম্মান দেয়া হয়নি, ক্ষেত্রবিশেষে আবিষ্কারের কৃতিত্ব একেবারেই ছিনিয়ে নেয়া হয়েছে। সেরকমই কিছু ঘটনা লিখছি। ১) নিউটন বনাম লাইবনিৎস বিজ্ঞানীদের এ জাতীয় সম্ভবত সবচেয়ে বিখ্যাত ঘটনার দুজন মূল চরিত্র হলেন স্যার আইজ্যাক নিউটন এবং গটফ্রিড উইলহেল্ম লাইবনিৎস ।  এখন আমরা মোটামুটি সবাই ক্যালকুলাসের আবিষ্কারক হিসেবে নিউটনের নামই জানি, কিন্ত এর পিছনেও মারাত্মক এক দ্বৈরথ ছিলো। নিউটন এবং লাইবনিৎস দুজনই স্বতন্ত্রভাবে ক্যালকুলাস আবিষ্কার করেন। সমস্যা দেখা দেয় তখন, যখন ক্যালকুলাসের আবিষ্কারক কে এ নিয়ে প্রশ্ন ওঠে। নিউটন ১৬৬৯ সালে ক্যালকুলাস নিয়ে তাঁর প্রথম এবং তার দু বছর পরে ১৬৭১ সালে দ্বিতীয় গবেষণাপত্রটি লেখেন। কিন্ত এগুলো প্রকাশিত হয় যথাক্রমে ১৭১১ এবং ১৭৩৬ সালে! পরবর্তীতে ১৬৭৬ সালে তিনি আরেকটি গবেষণাপত্র লেখেন যেটি প্রকাশিত হয় ১৭০৪ সালে। অপরদিকে, লাইবনিৎস ভাষ্যমতে তিনি ক্যালকুলাস নিয়ে ভাবতে শুরু করেন ১৬৭৪ সালের দিকে এবং তাঁর ভাবনাগুলো লিখিতভাবে প্রকাশ করেন তার ঠিক দশ বছর পরে অর্থাৎ ১৬৮৪ সালে। তো, এখান থেকে আমরা দেখতে পাচ্ছি যে নিউটন আগেই ক্যালকুলাস নিয়ে গবেষণাপত্র লিখেছেন (তাঁর অনুসারীদের ভাষ্যমতে); কিন্ত সেগুলো প্রকাশিত হয়েছে লাইবনিৎস গবেষণাপত্রের প্রকাশের পরে। এ জায়গাটি থেকেই তাঁদের মধ্যে দ্বৈরথের শুরু। তাঁদের দুজনের কাজের ক্ষেত্র এক হলেও দুজনের কর্মপন্থা ছিলো আলাদা। নিউটন এবং তাঁর অন্ধ ভক্তরা ধারণা করতে শুরু করেন লাইবনিৎস নিউটনের গবেষণাপত্র চুরি করেছেন! এদিকে জোহান বার্নোলি এবং আরেক বিখ্যাত গণিতবিদ অয়লার, লাইবনিৎস গবেষণাপত্রকে নিউটনের চেয়ে উন্নত বলে মন্তব্য করেন। পরবর্তীতে এই বিষয়ের একটি সুরাহার জন্য লাইবনিৎস স্বয়ং রয়েল সোসাইটিকে বিষয়টি নিয়ে অনুসন্ধানের জন্য অনুরোধ করেন। রয়েল সোসাইটি বিষয়টি নিয়ে অনুসন্ধান শেষে লাইবনিৎস গবেষণাপত্র চুরির দায়ে অভিযুক্ত করে! সোজা বাংলায় কুম্ভীলকবৃত্তির দায়ে অভিযুক্ত করে। করবে না - ই বা কেন! রয়েল সোসাইটির তৎকালীন সভাপতি যে ছিলেন নিউটন নিজেই!!! শেষ কথা: d/dx আর ∫ দুটি অপারেটর আমরা সবাই চিনি। এ দুটি অপারেটর কিন্ত আমরা নিয়েছি লাইবনিৎসের কাছ থেকেই। ২) রবার্ট হুক বনাম নিউটন  আমরা আসলে জানি  না রবার্ট হুক দেখতে এমনই ছিলেন কি না! এ কী! আবারও নিউটন! তা, এবারের দ্বৈরথ কি নিয়ে? নিউটনের এই সূত্রটা তো আমরা প্রায় সবাই পড়েছি যে, 'মহাবিশ্বের প্রতিটি বস্তকণা একে অপরকে নিজ দিকে আকর্ষণ করে। এই আকর্ষণ বলের মান বস্তুকণাদ্বয়ের ভরের গুণফলের সমানুপাতিক, এদের দূরত্বের বর্গের ব্যাস্তানুপাতিক এবং এই বল এদের সংযোজক সরলরেখা বরাবর ক্রিয়া করে।' তো এর মধ্যে এই যে 'আকর্ষণ বলের মান বস্তুদ্বয়ের দূরত্বের বর্গের ব্যস্তানুপাতিক', এই অংশটুকুকে বলা হয় ইনভার্স স্কয়ার ল, বা সোজা বাংলায় 'বিপরীত বর্গীয় সূত্র'। এই সূত্র প্রকাশের আগে থেকেই এডমন্ড হ্যালি (হ্যালির ধুমকেতু যাঁর নামে) ধারণা করতেন মহাকর্ষীয় বস্তুগুলো এই ইনভার্স স্কয়ার ল মেনে চলে। এডমন্ড হ্যালি এটি নিয়ে রবার্ট হুক আর ক্রিস্টোফার রেন এর সাথে আলোচনা করেন। রবার্ট হুক এতে সায় দেন। কিন্ত তিনি এর পক্ষে কোনো গাণিতিক প্রমাণ দিতে পারেন নি। আবার ১৬৬৫ সালে রবার্ট হুক তাঁর ম্যাগনাম ওপাস (একজন বিজ্ঞানীর জীবনের শ্রেষ্ঠ কাজকে ম্যাগনাম ওপাস বলা হয়) Micrographia তে বলেন, মহাকর্ষীয় বস্তুগুলোর মধ্যে দূরত্ব যত কমে, এদের মধ্যে আকর্ষণ ততই বাড়ে। পরবর্তীতে এই ইনভার্স স্কয়ার ল এর গাণিতিক প্রমাণের জন্য এডমন্ড হ্যালি নিউটনের কাছে যান এবং নিউটন এটির গাণিতিক প্রমাণ দিতে সক্ষম হন। এরপরে মূলত হ্যালির আগ্রহেই এই গাণিতিক  এবং চিরায়ত পদার্থবিজ্ঞানের আরও বেশ কিছু সূত্র এবং তাদের প্রমাণ নিয়ে নিউটন তাঁর ম্যাগনাম ওপাস Philosophiae Naturalis Principia Mathematica প্রকাশ করেন। তবে এটি প্রকাশের পরেই রবার্ট হুকের সাথে নিউটনের প্রকাশ্য দ্বন্দ বেড়ে যায়। হুক দাবি করেন যে, নিউটনের বইয়ের ইনভার্স স্কয়ার ল এর ধারণা নিউটন হুকের কাছ থেকে 'চুরি' করেছেন! এতে নিউটনও বেজায় চটে যান। যদিও হুক কখনই তাঁর দাবির সপক্ষে শক্ত কোনো যুক্তি দিতে পারেন নি, তবুও রবার্ট হুক আজীবনই নিউটনকে কুম্ভীলক ভেবে গিয়েছেন। হুক আর নিউটনের এই যুদ্ধের সমাপ্তি টানে রবার্ট হুকের মৃত্যু। ১৭০৩ সালে হুকের মৃত্যুর বছরেই নিউটন রয়েল সোসাইটির সভাপতির পদ গ্রহণ করেন। এরপরে রয়েল সোসাইটির প্রধান কার্যালয়ের স্থান পরিবর্তিত হয়, আর সেই থেকে রবার্ট হুকের একমাত্র পোর্ট্রেটটি হারিয়ে যায়। আমরা আজ রবার্ট হুক বলতে যার ছবি দেখি সেটি যে আদৌ রবার্ট হুকেরই, সেটি কিন্ত বলা যায় না! কারণ ছবিটি আঁকা হয়েছিলো অন্যদের মুখের বর্ণনায়। অনেকে বলে থাকেন এর পিছনে নিউটনের প্রত্যক্ষ হাত ছিলো। ৩) নিকোলা টেসলা বনাম টমাস আলভা এডিসন  নিকোলা টেসলা ছিলেন সম্ভবত সবচেয়ে মেধাবী বিস্মৃত বিজ্ঞানী। এডিসনের সাথে দ্বন্দ্বে জড়িয়ে টেসলা অনেকখানি নিঃশেষিত হয়ে গিয়েছিলেন। এডিসন একজন বিজ্ঞানীর চেয়েও বেশি ছিলেন একজন ব্যাবসায়ী। অপরদিকে টেসলা ছিলেন বিজ্ঞান অন্তঃপ্রাণ একজন মানুষ; ব্যবসায়ীসুলভ কোনো আচরণ তাঁর মধ্যে ছিলো না। টেসলা কাজ করতেন এডিসনের প্রতিষ্ঠানের হয়ে, কিন্ত এডিসনের কর্মপদ্ধতি তাঁর পছন্দ না হওয়ায় তিনি এডিসনের প্রতিষ্ঠানে কাজ করা ছেড়ে দেন। এডিসন আবিষ্কার করেছিলেন DC বা ডায়রেক্ট কারেন্ট, অপরদিকে টেসলা আবিষ্কার করেন AC বা অলটারনেটিং কারেন্ট। যদিও এখন আমরা প্রায় সব ক্ষেত্রেই টেসলার উদ্ভাবিত AC ব্যবহার করি কিন্ত তৎকালীন সময়ে এডিসন সবাইকে অলটারনেটিং কারেন্ট ব্যাবহারে নিরুৎসাহিত করতেন। তাঁর মতে AC ছিলো 'অবাস্তব'। টেসলা ছিলেন অসাধারণ মেধাবী, কিন্ত তাঁর অভাব ছিলো টাকার। এডিসন চাইলে তাঁর পরিচিত এই বিজ্ঞানীকে সাহায্য করতে পারতেন, কিন্ত করেন\\u200c নি। এছাড়াও বলা হয়ে থাকে টেসলার অনেক ধারণা এডিসন নিজের বলে চালিয়ে দিয়েছেন।  টেসলা আর এডিসন নিয়ে একটি মিম ৪) রোজালিন্ড ফ্র্যাংকলিন বনাম ওয়াটসন এবং ক্রিক; ডিএনএ এর ডাবল হেলিক্স মডেল  গবেষণাগারে রোজালিন্ড ফ্র্যাংকলিন ডিএনএ এর আবিষ্কারক কে বলুন তো? ওয়াটসন আর ক্রিক? উঁহু। গল্পটা কিছুটা অন্যরকম। ডিএনএ এর গঠন নিয়ে ক্যাভেন্ডিশ ল্যাবরেটরিতে কাজ করতেন ওয়াটসন এবং ক্রিক। একই সময়ে এটি নিয়ে লন্ডনের কিংস কলেজে গবেষণা করতেন ফ্র্যাংকলিন এবং উইলকিন্স। এক সময় ওয়াটসন এবং ক্রিক লন্ডনে ফ্র্যাংকলিন এবং উইলকিন্সের ল্যাবে ঘুরতে আসেন। সেখানে রোজালিন্ড ফ্র্যাংকলিন সরল মনে তাঁর প্রাপ্ত ফলাফল ওয়াটসন এবং ক্রিকের সাথে আলোচনা করেন। মূলত এই আলোচনার পরেই ওয়াটসন এবং ক্রিক তাঁদের বিখ্যাত ডাবল হেলিক্স মডেল প্রকাশ করেন এবং রাতারাতি বিখ্যাত হয়ে যান। পরবর্তীতে রোজালিন ফ্র্যাংকলিন ল্যাবে কাজ করা ছেড়ে দিলে ১৯৬২ সালে ওয়াটসন, ক্রিক এবং উইলকিন্স শারীরবিদ্যায় নোবেল পুরস্কার লাভ করেন। কিন্ত মূলত যার কাজ দেখে ওয়াটসন এবং ক্রিক ডিএনএ এর ডাবল হেলিক্স মডেলের ধারণা লাভ করেন, তিনি রয়ে গেলেন একেবারেই অন্ধকারে।  ওয়াটসন, ক্রিক এর কাজ নিয়ে মিম। ৫) জসেলিন বেল বার্নেল  ইউনিভার্সিটি অফ গ্লাসগো থেকে স্নাতক সম্পন্ন করার পরে পিএইচডির জন্য জসেলিন বেল বার্নেল বেছে নেন ইউনিভার্সিটি অফ ক্যামব্রিজকে। পিএইচডি এর গবেষণাকালে তিনি প্রথম পালসার আবিষ্কার করেন! পালসার হল এক ধরনের উচ্চ চৌম্বকত্বপ্রাপ্ত নিউট্রন তারা যেটি প্রচণ্ড বেগে ঘুরতে ঘুরতে পালসের মতো ক্ষণে ক্ষণে তড়িৎচৌম্বক তরঙ্গের বিকিরণ ঘটায়। যেহেতু এটি পালসের মত তড়িৎচৌম্বক বিকিরণ ঘটায় তাই Pulse u098fu09acu0982 u0995u09cbu09dfu09c7u0987u099cu09beu09b0 (Quasar) u098fu09b0 ar u09a8u09bfu09dfu09c7 u098fu099fu09bfu0995u09c7 pulsar u09acu09b2u09be u09b9u09dfu0964 দুঃখজনক ব্যাপার হচ্ছে, জসেলিন একক কৃতিত্বে সর্বপ্রথম পালসার আবিষ্কার করলেও এর কৃতিত্ব সম্পূর্ণভাবেই চলে যায় তাঁর প্রফেসর এন্টনি হিউইশ এর কাছে। ফলাফল? ১৯৭৪ সালে এন্টনি হিউইশ পদার্থবিজ্ঞানে নোবেল লাভ করেন। আর জসেলিন? কতজনই বা আজ তাঁর নাম জানেন? যার পিএইচডির গবেষণা নোবেল জয় করেছে, সেই ব্যক্তি রয়ে গেলেন একেবারেই আড়ালে! এরকম বেশ কিছু ক্ষেত্র আছে যেখানে কোনো প্রভাবশালী বিজ্ঞানীর সাথে দ্বন্দ্বে জড়িয়ে অনেকের ক্যারিয়ার শেষ হয়েছে। আবার অনেকে নিজের প্রাপ্ত সম্মান পান নি, অনেকে হারিয়ে গেছেন। বিজ্ঞানীরা প্রচণ্ড মেধাবী হলেও তাঁরাও যে নিজেদের প্রয়োজনে ধূর্ত হতেও পিছপা হন না, এসব ঘটনা যেন তারই প্রমাণ। তবে সামগ্রিকভাবে বিবেচনা করলে এরকম ঘটনার হার খুবই কম, দিনশেষে সবাই তো মানুষ। আর অনেকেই তাঁর নিজের প্রয়োজনটাই দেখেন সবার আগে।\""
      ]
     },
     "execution_count": 6,
     "metadata": {},
     "output_type": "execute_result"
    }
   ],
   "source": [
    "res3 = bq.get_full_answer('https://bn.quora.com/\\\n",
    "                          বিজ্ঞানীদের-মধ্যেও-কি/answers/150612153')\n",
    "res3"
   ]
  },
  {
   "cell_type": "code",
   "execution_count": null,
   "metadata": {},
   "outputs": [],
   "source": []
  }
 ],
 "metadata": {
  "kernelspec": {
   "display_name": "Python 3",
   "language": "python",
   "name": "python3"
  },
  "language_info": {
   "codemirror_mode": {
    "name": "ipython",
    "version": 3
   },
   "file_extension": ".py",
   "mimetype": "text/x-python",
   "name": "python",
   "nbconvert_exporter": "python",
   "pygments_lexer": "ipython3",
   "version": "3.7.6"
  }
 },
 "nbformat": 4,
 "nbformat_minor": 4
}
